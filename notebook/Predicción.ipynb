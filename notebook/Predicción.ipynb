{
 "cells": [
  {
   "cell_type": "markdown",
   "metadata": {},
   "source": [
    "<h3> Pregunta 1: ¿Se puede predecir el número de goles que marcara un jugador? </h3>"
   ]
  },
  {
   "cell_type": "code",
   "execution_count": null,
   "metadata": {},
   "outputs": [
    {
     "name": "stdout",
     "output_type": "stream",
     "text": [
      "          Age        MP    Starts       Min       90s       Ast       G+A  \\\n",
      "77   1.365939 -1.406470 -1.209603 -1.203888 -1.202885 -0.627905 -0.658066   \n",
      "429  0.245050  1.215712  1.224072  1.170514  1.170632  0.643986  2.126551   \n",
      "290  0.693405  1.131126  1.391912  1.371718  1.372821 -0.203941  0.270140   \n",
      "352 -1.324196  0.623607  0.049194  0.029707  0.027827 -0.627905 -0.658066   \n",
      "176 -1.324196  1.384886  1.307992  1.240838  1.240959  1.067950  1.383986   \n",
      "\n",
      "         G-PK        PK     PKatt  ...  Team_Liverpool  Team_Luton Town  \\\n",
      "77  -0.595633 -0.212431 -0.214943  ...           False            False   \n",
      "429  3.169677 -0.212431 -0.214943  ...           False            False   \n",
      "290  0.659470 -0.212431 -0.214943  ...           False            False   \n",
      "352 -0.595633 -0.212431 -0.214943  ...           False            False   \n",
      "176  1.600798 -0.212431 -0.214943  ...           False            False   \n",
      "\n",
      "     Team_Manchester City  Team_Manchester United  Team_Newcastle United  \\\n",
      "77                  False                   False                  False   \n",
      "429                 False                   False                  False   \n",
      "290                 False                   False                  False   \n",
      "352                 False                   False                  False   \n",
      "176                 False                    True                  False   \n",
      "\n",
      "     Team_Nottingham Forest  Team_Sheffield United  Team_Tottenham Hotspur  \\\n",
      "77                    False                  False                   False   \n",
      "429                   False                  False                   False   \n",
      "290                   False                  False                   False   \n",
      "352                   False                  False                   False   \n",
      "176                   False                  False                   False   \n",
      "\n",
      "     Team_West Ham United  Team_Wolverhampton  \n",
      "77                  False               False  \n",
      "429                 False               False  \n",
      "290                 False               False  \n",
      "352                 False               False  \n",
      "176                 False               False  \n",
      "\n",
      "[5 rows x 691 columns]\n",
      "77    -0.570406\n",
      "429    2.746238\n",
      "290    0.535142\n",
      "352   -0.570406\n",
      "176    1.364303\n",
      "Name: Gls, dtype: float64\n"
     ]
    }
   ],
   "source": [
    "import pandas as pd\n",
    "from sklearn.preprocessing import StandardScaler\n",
    "from sklearn.model_selection import train_test_split\n",
    "\n",
    "archivo = 'c:/Users/Usuario/Documents/UNRaf - Ingenieria en Computacion/4to año/Aprendizaje Automatico/Trabajo Final/premier-player-23-24.csv'\n",
    "data = pd.read_csv(archivo)\n",
    "categorical_features = ['Player', 'Nation', 'Pos', 'Team']\n",
    "numeric_features = ['Age', 'MP', 'Starts', 'Min', '90s', 'Gls', 'Ast', 'G+A', 'G-PK', 'PK', 'PKatt', 'CrdY', 'CrdR', 'xG', 'npxG', 'xAG', 'npxG+xAG', 'PrgC', 'PrgP', 'PrgR', 'Gls_90', 'Ast_90', 'G+A_90', 'G-PK_90', 'G+A-PK_90', 'xG_90', 'xAG_90', 'xG+xAG_90', 'npxG_90', 'npxG+xAG_90']\n",
    "data = pd.get_dummies(data, columns=categorical_features, drop_first=True)\n",
    "scaler = StandardScaler()\n",
    "data[numeric_features] = scaler.fit_transform(data[numeric_features])\n",
    "X = data.drop(columns=['Gls'])  \n",
    "y = data['Gls']  \n",
    "\n",
    "X_train, X_test, y_train, y_test = train_test_split(X, y, test_size=0.2, random_state=42)\n",
    "\n",
    "print(X_train.head())\n",
    "print(y_train.head())\n"
   ]
  },
  {
   "cell_type": "markdown",
   "metadata": {},
   "source": [
    "<h3> Regresion Lineal (con todos los datos): <h3>"
   ]
  },
  {
   "cell_type": "code",
   "execution_count": null,
   "metadata": {},
   "outputs": [
    {
     "name": "stdout",
     "output_type": "stream",
     "text": [
      "Regresión Lineal - Resultados: {'MSE': np.float64(3.7992286715962304e-05), 'R2 Score': 0.999973709758477}\n"
     ]
    }
   ],
   "source": [
    "from sklearn.linear_model import LinearRegression\n",
    "from sklearn.metrics import mean_squared_error, r2_score\n",
    "\n",
    "lin_reg = LinearRegression()\n",
    "lin_reg.fit(X_train, y_train)\n",
    "y_pred_lin = lin_reg.predict(X_test)\n",
    "mse_lin = mean_squared_error(y_test, y_pred_lin)\n",
    "r2_lin = r2_score(y_test, y_pred_lin)\n",
    "results_lin = {'MSE': mse_lin, 'R2 Score': r2_lin}\n",
    "\n",
    "print(\"Regresión Lineal - Resultados:\", results_lin)\n",
    "\n",
    "\n"
   ]
  },
  {
   "cell_type": "markdown",
   "metadata": {},
   "source": [
    "<h3> Regresion Polinomica (con todos los datos): <h3>"
   ]
  },
  {
   "cell_type": "code",
   "execution_count": null,
   "metadata": {},
   "outputs": [
    {
     "name": "stdout",
     "output_type": "stream",
     "text": [
      "Regresión Polinómica - Resultados: {'MSE': np.float64(0.03351894945626204), 'R2 Score': 0.9768052583044177}\n"
     ]
    }
   ],
   "source": [
    "from sklearn.preprocessing import PolynomialFeatures\n",
    "from sklearn.pipeline import make_pipeline\n",
    "from sklearn.metrics import mean_squared_error, r2_score\n",
    "\n",
    "poly_reg = make_pipeline(PolynomialFeatures(degree=2), LinearRegression())\n",
    "poly_reg.fit(X_train, y_train)\n",
    "y_pred_poly = poly_reg.predict(X_test)\n",
    "mse_poly = mean_squared_error(y_test, y_pred_poly)\n",
    "r2_poly = r2_score(y_test, y_pred_poly)\n",
    "results_poly = {'MSE': mse_poly, 'R2 Score': r2_poly}\n",
    "\n",
    "print(\"Regresión Polinómica - Resultados:\", results_poly)\n"
   ]
  },
  {
   "cell_type": "markdown",
   "metadata": {},
   "source": [
    "<h3> Bosque Aleatorio (con todos lo datos): <h3>"
   ]
  },
  {
   "cell_type": "code",
   "execution_count": null,
   "metadata": {},
   "outputs": [
    {
     "name": "stdout",
     "output_type": "stream",
     "text": [
      "Bosque Aleatorio - Resultados: {'MSE': np.float64(0.058389113685645186), 'R2 Score': 0.9595953801732435}\n"
     ]
    }
   ],
   "source": [
    "from sklearn.ensemble import RandomForestRegressor\n",
    "from sklearn.metrics import mean_squared_error, r2_score\n",
    "\n",
    "rf_reg = RandomForestRegressor(n_estimators=100, random_state=42)\n",
    "rf_reg.fit(X_train, y_train)\n",
    "y_pred_rf = rf_reg.predict(X_test)\n",
    "mse_rf = mean_squared_error(y_test, y_pred_rf)\n",
    "r2_rf = r2_score(y_test, y_pred_rf)\n",
    "results_rf = {'MSE': mse_rf, 'R2 Score': r2_rf}\n",
    "\n",
    "print(\"Bosque Aleatorio - Resultados:\", results_rf)\n"
   ]
  },
  {
   "cell_type": "markdown",
   "metadata": {},
   "source": [
    "<h3> Analisis PCA: <h3>"
   ]
  },
  {
   "cell_type": "code",
   "execution_count": null,
   "metadata": {},
   "outputs": [
    {
     "data": {
      "text/plain": [
       "(array([4.42838718e-01, 1.73735734e-01, 7.29243991e-02, 6.24823326e-02,\n",
       "        5.71544225e-02, 3.78038009e-02, 3.23944253e-02, 2.72562043e-02,\n",
       "        2.35126824e-02, 2.00445600e-02, 1.53759790e-02, 1.27884175e-02,\n",
       "        8.00506411e-03, 5.14160534e-03, 3.09293932e-03, 2.91118377e-03,\n",
       "        1.84734772e-03, 3.67772804e-04, 1.61359482e-04, 1.46014895e-04,\n",
       "        4.70011223e-06, 4.13361568e-06, 3.51780408e-06, 1.72534969e-06,\n",
       "        4.22216015e-07, 2.41213024e-07, 1.97930574e-07, 9.85020370e-08,\n",
       "        3.79841638e-17, 0.00000000e+00]),\n",
       " array([0.44283872, 0.61657445, 0.68949885, 0.75198118, 0.80913561,\n",
       "        0.84693941, 0.87933383, 0.90659004, 0.93010272, 0.95014728,\n",
       "        0.96552326, 0.97831168, 0.98631674, 0.99145835, 0.99455128,\n",
       "        0.99746247, 0.99930982, 0.99967759, 0.99983895, 0.99998496,\n",
       "        0.99998966, 0.9999938 , 0.99999731, 0.99999904, 0.99999946,\n",
       "        0.9999997 , 0.9999999 , 1.        , 1.        , 1.        ]))"
      ]
     },
     "execution_count": 23,
     "metadata": {},
     "output_type": "execute_result"
    }
   ],
   "source": [
    "from sklearn.decomposition import PCA\n",
    "from sklearn.preprocessing import StandardScaler\n",
    "\n",
    "numeric_data = data.select_dtypes(include=['float64', 'int64']).dropna()\n",
    "scaler = StandardScaler()\n",
    "scaled_data = scaler.fit_transform(numeric_data)\n",
    "pca = PCA(n_components=len(numeric_data.columns))  # Keeping all components initially\n",
    "pca.fit(scaled_data)\n",
    "\n",
    "explained_variance = pca.explained_variance_ratio_\n",
    "explained_variance, explained_variance.cumsum()\n"
   ]
  },
  {
   "cell_type": "markdown",
   "metadata": {},
   "source": [
    "<h3> Regresion Lineal (con PCA): <h3>"
   ]
  },
  {
   "cell_type": "code",
   "execution_count": null,
   "metadata": {},
   "outputs": [
    {
     "data": {
      "text/plain": [
       "{'MSE': np.float64(0.6057983723078156), 'R2 Score': 0.5807942374918632}"
      ]
     },
     "execution_count": 24,
     "metadata": {},
     "output_type": "execute_result"
    }
   ],
   "source": [
    "import pandas as pd\n",
    "from sklearn.model_selection import train_test_split\n",
    "from sklearn.linear_model import LinearRegression\n",
    "from sklearn.metrics import mean_squared_error, r2_score\n",
    "\n",
    "data_filtered = data[['Min', 'Ast', 'xG_90', 'Gls']].dropna()\n",
    "X = data_filtered[['Min', 'Ast', 'xG_90']]\n",
    "y = data_filtered['Gls']\n",
    "X_train, X_test, y_train, y_test = train_test_split(X, y, test_size=0.2, random_state=42)\n",
    "lin_reg = LinearRegression()\n",
    "lin_reg.fit(X_train, y_train)\n",
    "y_pred_lin = lin_reg.predict(X_test)\n",
    "mse_lin = mean_squared_error(y_test, y_pred_lin)\n",
    "r2_lin = r2_score(y_test, y_pred_lin)\n",
    "\n",
    "results_lin = {'MSE': mse_lin, 'R2 Score': r2_lin}\n",
    "results_lin\n"
   ]
  },
  {
   "cell_type": "markdown",
   "metadata": {},
   "source": [
    "<h3>Regresion Polinomica (con PCA):<h3>"
   ]
  },
  {
   "cell_type": "code",
   "execution_count": null,
   "metadata": {},
   "outputs": [
    {
     "data": {
      "text/plain": [
       "{'MSE': np.float64(1.5120861938970684), 'R2 Score': 0.9200698009267979}"
      ]
     },
     "execution_count": 25,
     "metadata": {},
     "output_type": "execute_result"
    }
   ],
   "source": [
    "from sklearn.preprocessing import PolynomialFeatures\n",
    "from sklearn.linear_model import LinearRegression\n",
    "from sklearn.metrics import mean_squared_error, r2_score\n",
    "\n",
    "data = pd.read_csv(archivo)\n",
    "data_filtered = data[['Min', 'Ast', 'xG_90', 'Gls']].dropna()\n",
    "X = data_filtered[['Min', 'Ast', 'xG_90']]\n",
    "y = data_filtered['Gls']\n",
    "X_train, X_test, y_train, y_test = train_test_split(X, y, test_size=0.2, random_state=42)\n",
    "poly = PolynomialFeatures(degree=2)\n",
    "X_poly_train = poly.fit_transform(X_train)\n",
    "X_poly_test = poly.transform(X_test)\n",
    "poly_reg = LinearRegression()\n",
    "poly_reg.fit(X_poly_train, y_train)\n",
    "y_pred_poly = poly_reg.predict(X_poly_test)\n",
    "mse_poly = mean_squared_error(y_test, y_pred_poly)\n",
    "r2_poly = r2_score(y_test, y_pred_poly)\n",
    "\n",
    "results_poly = {'MSE': mse_poly, 'R2 Score': r2_poly}\n",
    "results_poly\n"
   ]
  },
  {
   "cell_type": "markdown",
   "metadata": {},
   "source": [
    "<h3>Bosque Aleatorio (con PCA):<h3>"
   ]
  },
  {
   "cell_type": "code",
   "execution_count": null,
   "metadata": {},
   "outputs": [
    {
     "data": {
      "text/plain": [
       "{'MSE': np.float64(2.797133620689655), 'R2 Score': 0.8521410697098859}"
      ]
     },
     "execution_count": 26,
     "metadata": {},
     "output_type": "execute_result"
    }
   ],
   "source": [
    "from sklearn.ensemble import RandomForestRegressor\n",
    "from sklearn.metrics import mean_squared_error, r2_score\n",
    "\n",
    "data = pd.read_csv(archivo)\n",
    "data_filtered = data[['Min', 'Ast', 'xG_90', 'Gls']].dropna()\n",
    "X = data_filtered[['Min', 'Ast', 'xG_90']]\n",
    "y = data_filtered['Gls']\n",
    "X_train, X_test, y_train, y_test = train_test_split(X, y, test_size=0.2, random_state=42)\n",
    "rf_reg = RandomForestRegressor(n_estimators=100, random_state=42)\n",
    "rf_reg.fit(X_train, y_train)\n",
    "y_pred_rf = rf_reg.predict(X_test)\n",
    "mse_rf = mean_squared_error(y_test, y_pred_rf)\n",
    "r2_rf = r2_score(y_test, y_pred_rf)\n",
    "\n",
    "results_rf = {'MSE': mse_rf, 'R2 Score': r2_rf}\n",
    "results_rf"
   ]
  },
  {
   "cell_type": "markdown",
   "metadata": {},
   "source": [
    "<h3> Ejemplificación con Julián Álvarez: <h3>"
   ]
  },
  {
   "cell_type": "code",
   "execution_count": null,
   "metadata": {},
   "outputs": [
    {
     "name": "stdout",
     "output_type": "stream",
     "text": [
      "Predicción de goles de Julián Álvarez con Regresión Lineal: 775.4932572400605 goles\n"
     ]
    }
   ],
   "source": [
    "julian_data = pd.DataFrame({'Min': [2647], 'Ast': [8], 'xG_90': [0.44]})\n",
    "y_pred_julian_lin = lin_reg.predict(julian_data)\n",
    "print(f\"Predicción de goles de Julián Álvarez con Regresión Lineal: {y_pred_julian_lin[0]} goles\")"
   ]
  },
  {
   "cell_type": "code",
   "execution_count": null,
   "metadata": {},
   "outputs": [
    {
     "name": "stdout",
     "output_type": "stream",
     "text": [
      "Predicción de goles de Julián Álvarez con Regresión Polinómica: 12.810305624799604 goles\n"
     ]
    }
   ],
   "source": [
    "julian_data = pd.DataFrame({'Min': [2647], 'Ast': [8], 'xG_90': [0.44]})\n",
    "julian_poly = poly.transform(julian_data)\n",
    "y_pred_julian_poly = poly_reg.predict(julian_poly)\n",
    "print(f\"Predicción de goles de Julián Álvarez con Regresión Polinómica: {y_pred_julian_poly[0]} goles\")"
   ]
  },
  {
   "cell_type": "code",
   "execution_count": null,
   "metadata": {},
   "outputs": [
    {
     "name": "stdout",
     "output_type": "stream",
     "text": [
      "Predicción de goles de Julián Álvarez con Bosque Aleatorio: 11.95 goles\n"
     ]
    }
   ],
   "source": [
    "julian_data = pd.DataFrame({'Min': [2647], 'Ast': [8], 'xG_90': [0.44]})\n",
    "y_pred_julian_rf = rf_reg.predict(julian_data)\n",
    "print(f\"Predicción de goles de Julián Álvarez con Bosque Aleatorio: {y_pred_julian_rf[0]} goles\")"
   ]
  },
  {
   "cell_type": "markdown",
   "metadata": {},
   "source": [
    "<h3>Ejemplificación con Erling Haaland:</h3>"
   ]
  },
  {
   "cell_type": "code",
   "execution_count": null,
   "metadata": {},
   "outputs": [
    {
     "name": "stdout",
     "output_type": "stream",
     "text": [
      "Predicción de goles de Erling Haaland con Regresión Lineal: 746.8825538091755 goles\n"
     ]
    }
   ],
   "source": [
    "haaland_data = pd.DataFrame({'Min': [2552], 'Ast' : [5], 'xG_90': [1.03]})\n",
    "y_pred_haaland_lin = lin_reg.predict(haaland_data)\n",
    "print(f\"Predicción de goles de Erling Haaland con Regresión Lineal: {y_pred_haaland_lin[0]} goles\")"
   ]
  },
  {
   "cell_type": "code",
   "execution_count": null,
   "metadata": {},
   "outputs": [
    {
     "name": "stdout",
     "output_type": "stream",
     "text": [
      "Predicción de goles de Erling Haaland con Regresión Polinómica: 27.88549569631721 goles\n"
     ]
    }
   ],
   "source": [
    "haaland_data = pd.DataFrame({'Min': [2552], 'Ast' : [5], 'xG_90': [1.03]})\n",
    "haaland_poly = poly.transform(haaland_data)\n",
    "y_pred_haaland_poly = poly_reg.predict(haaland_poly)\n",
    "print(f\"Predicción de goles de Erling Haaland con Regresión Polinómica: {y_pred_haaland_poly[0]} goles\")"
   ]
  },
  {
   "cell_type": "code",
   "execution_count": null,
   "metadata": {},
   "outputs": [
    {
     "name": "stdout",
     "output_type": "stream",
     "text": [
      "Predicción de goles de Erling Haaland con Bosque Aleatorio: 17.09 goles\n"
     ]
    }
   ],
   "source": [
    "haaland_data = pd.DataFrame({'Min': [2552], 'Ast' : [5], 'xG_90': [1.03]})\n",
    "y_pred_haaland_rf = rf_reg.predict(haaland_data)\n",
    "print(f\"Predicción de goles de Erling Haaland con Bosque Aleatorio: {y_pred_haaland_rf[0]} goles\")"
   ]
  }
 ],
 "metadata": {
  "kernelspec": {
   "display_name": "Python 3",
   "language": "python",
   "name": "python3"
  },
  "language_info": {
   "codemirror_mode": {
    "name": "ipython",
    "version": 3
   },
   "file_extension": ".py",
   "mimetype": "text/x-python",
   "name": "python",
   "nbconvert_exporter": "python",
   "pygments_lexer": "ipython3",
   "version": "3.11.3"
  }
 },
 "nbformat": 4,
 "nbformat_minor": 2
}
